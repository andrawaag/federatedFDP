{
 "cells": [
  {
   "cell_type": "code",
   "execution_count": 42,
   "metadata": {
    "collapsed": true,
    "ExecuteTime": {
     "end_time": "2023-05-17T11:52:45.665171Z",
     "start_time": "2023-05-17T11:52:45.622092Z"
    }
   },
   "outputs": [],
   "source": [
    "import rdflib\n",
    "import pandas as pd\n",
    "import requests\n",
    "import yaml\n",
    "import matplotlib.pyplot as plt\n",
    "from IPython.display import display, Markdown\n"
   ]
  },
  {
   "cell_type": "code",
   "execution_count": 43,
   "outputs": [],
   "source": [
    "fdp = \"https://w3id.org/duchenne-fdp/\"\n",
    "title = \"Duchenne_FDP\""
   ],
   "metadata": {
    "collapsed": false,
    "ExecuteTime": {
     "end_time": "2023-05-17T11:52:46.292687Z",
     "start_time": "2023-05-17T11:52:46.276608Z"
    }
   }
  },
  {
   "cell_type": "code",
   "execution_count": 44,
   "outputs": [],
   "source": [
    "fetched_urls = set()\n",
    "\n",
    "def parse_graph(graph, fdp, url):\n",
    "    try:\n",
    "        graph.parse(url, format=\"ttl\")\n",
    "        uris[\"resolve\"].append(url)\n",
    "        fetched_urls.add(url)\n",
    "        return True\n",
    "    except Exception as e:\n",
    "        print(\"Could not parse: \" + url)\n",
    "        uris[\"not_resolve\"].append(url)\n",
    "        print(e)\n",
    "        return False\n",
    "\n",
    "def fetchMetaData(graph, fdp, url):\n",
    "    if parse_graph(graph, fdp, url):\n",
    "        query = \"\"\"\n",
    "        PREFIX ldp: <http://www.w3.org/ns/ldp#>\n",
    "        SELECT ?o WHERE {\n",
    "            ?s ldp:contains ?o .\n",
    "        }\n",
    "        \"\"\"\n",
    "        results = graph.query(query)\n",
    "        for row in results:\n",
    "            resolve_url(graph, fdp, str(row[\"o\"]) + \"?format=ttl\")\n",
    "\n",
    "def resolve_url(graph, fdp, url):\n",
    "    if parse_graph(graph, fdp, url):\n",
    "        query = \"\"\"\n",
    "        PREFIX ldp: <http://www.w3.org/ns/ldp#>\n",
    "        SELECT ?o WHERE {\n",
    "            ?s ldp:contains ?o .\n",
    "        }\n",
    "        \"\"\"\n",
    "\n",
    "        datasetsgraph = rdflib.Graph()\n",
    "        if parse_graph(datasetsgraph, fdp, url):\n",
    "            datasetsgraph.parse(url, format=\"ttl\")\n",
    "            datasetsTempResults = datasetsgraph.query(query)\n",
    "            for row in datasetsTempResults:\n",
    "                resolve_url(datasetsgraph, fdp, str(row[\"o\"]) + \"?format=ttl\")\n",
    "\n",
    "fdpgraph = rdflib.Graph()\n",
    "uris = {\"resolve\": [], \"not_resolve\": []}\n",
    "fetchMetaData(fdpgraph, fdp, fdp + \"?format=ttl\")"
   ],
   "metadata": {
    "collapsed": false,
    "ExecuteTime": {
     "end_time": "2023-05-17T11:52:57.813763Z",
     "start_time": "2023-05-17T11:52:47.078199Z"
    }
   }
  },
  {
   "cell_type": "code",
   "execution_count": 45,
   "outputs": [],
   "source": [
    "for node in fdpgraph.all_nodes():\n",
    "    if isinstance(node, rdflib.URIRef):\n",
    "        url = str(node)\n",
    "        if url not in fetched_urls:\n",
    "            try:\n",
    "                # print(\"Fetching: \" + url)\n",
    "                fdpgraph.parse(url)\n",
    "                uris[\"resolve\"].append(url)\n",
    "                fetched_urls.add(url)\n",
    "            except:\n",
    "                uris[\"not_resolve\"].append(url)\n",
    "                # print(\"Could not parse: \" + url)\n",
    "                continue"
   ],
   "metadata": {
    "collapsed": false,
    "ExecuteTime": {
     "end_time": "2023-05-17T11:55:10.484370Z",
     "start_time": "2023-05-17T11:52:57.790743Z"
    }
   }
  },
  {
   "cell_type": "code",
   "execution_count": 46,
   "outputs": [],
   "source": [
    "def save_dict_to_yaml(dictionary, filepath):\n",
    "    with open(filepath, 'w') as file:\n",
    "        yaml.dump(dictionary, file)\n",
    "\n",
    "# Save dictionary as YAML\n",
    "save_dict_to_yaml(uris, title+'.yaml')"
   ],
   "metadata": {
    "collapsed": false,
    "ExecuteTime": {
     "end_time": "2023-05-17T11:55:10.506005Z",
     "start_time": "2023-05-17T11:55:10.465407Z"
    }
   }
  },
  {
   "cell_type": "code",
   "execution_count": 52,
   "outputs": [
    {
     "data": {
      "text/plain": "<Figure size 640x480 with 1 Axes>",
      "image/png": "[encoded data removed]"
     },
     "metadata": {},
     "output_type": "display_data"
    }
   ],
   "source": [
    "with open(title+'.yaml', 'r') as file:\n",
    "    data = yaml.safe_load(file)\n",
    "\n",
    "values = [len(data[\"not_resolve\"]), len(data[\"resolve\"])]\n",
    "values = [int(value) for value in values]  # Convert values to integers\n",
    "\n",
    "labels = ['4* URIs', '5* URIs']\n",
    "\n",
    "plt.pie(values, labels=labels, autopct='%1.1f%%')\n",
    "plt.axis('equal')\n",
    "\n",
    "plt.title('URI Resolve Status')\n",
    "plt.show()\n"
   ],
   "metadata": {
    "collapsed": false,
    "ExecuteTime": {
     "end_time": "2023-05-17T12:35:56.122725Z",
     "start_time": "2023-05-17T12:35:55.907637Z"
    }
   }
  },
  {
   "cell_type": "code",
   "execution_count": 53,
   "outputs": [
    {
     "data": {
      "text/plain": "<IPython.core.display.Markdown object>",
      "text/markdown": "- **xmlns.com:**\n  - /foaf/0.1/Agent\n- **purl.obolibrary.org:**\n  - /obo/HP_0032321\n  - /obo/HP_0000708\n  - /obo/HP_0002020\n  - /obo/HP_0020110\n  - /obo/HP_0006957\n  - /obo/HP_0000819\n  - /obo/HP_0008366\n  - /obo/HP_0000750\n  - /obo/UBERON_0001434\n  - /obo/HP_0002987\n  - /obo/HP_0003270\n  - /obo/HP_0002194\n  - /obo/HP_0033454\n  - /obo/HP_0002014\n  - /obo/HP_0030193\n  - /obo/HP_0001270\n  - /obo/HP_0008981\n  - /obo/HP_0005997\n  - /obo/HP_0009473\n  - /obo/HP_0033333\n  - /obo/HP_0002650\n  - /obo/HP_0001263\n  - /obo/HP_0003044\n  - /obo/HP_0002019\n  - /obo/HP_0006380\n- **rdflicense.appspot.com:**\n  - /rdflicense/cc-by-nc-nd4.0\n- **www.orpha.net:**\n  - /ORDO/Orphanet_98895\n  - /ORDO/Orphanet_98896\n- **w3id.org:**\n  - /duchenne-fdp/dataset/\n  - /duchenne-fdp/catalog/ce01b2e8-3a1d-434e-b5e2-98e3a8d78a5b/metrics/445c0a70d1e214e545b261559e2842f4\n  - /fdp/fdp-o\n  - /duchenne-fdp/metrics/5d27e854a9e78eb3f663331cd47cdc13\n  - /duchenne-fdp/metrics/445c0a70d1e214e545b261559e2842f4\n  - /duchenne-fdp/catalog/\n  - /fdp/fdp-o\n  - /duchenne-fdp/catalog/ce01b2e8-3a1d-434e-b5e2-98e3a8d78a5b/metrics/5d27e854a9e78eb3f663331cd47cdc13\n  - /fdp/fdp-o\n- **purl.org:**\n  - /spar/datacite/Identifier\n  - /ejp-rd/vocabulary/VPQueryable\n  - /ejp-rd/vocabulary/VPDiscoverable\n- **www.dpp_ontology.net:**\n  - /terms/Intermediate\n- **www.wikidata.org:**\n  - /wiki/Q8777\n- **www.ietf.org:**\n  - /rfc/rfc3986.txt\n"
     },
     "metadata": {},
     "output_type": "display_data"
    }
   ],
   "source": [
    "from urllib.parse import urlparse\n",
    "urls = dict()\n",
    "\n",
    "for url in data[\"not_resolve\"]:\n",
    "\n",
    "    urlsections = urlparse(url)\n",
    "    paths = urlsections.path.strip('/').split('/')\n",
    "    if urlsections.netloc not in urls.keys():\n",
    "        urls[urlsections.netloc] = []\n",
    "    urls[urlsections.netloc].append(urlsections.path)\n",
    "\n",
    "def dict_to_markdown_list(d):\n",
    "    md = ''\n",
    "    for k, v in d.items():\n",
    "        if isinstance(v, list):\n",
    "            md += f'- **{k}:**\\n'\n",
    "            for item in v:\n",
    "                md += f'  - {item}\\n'\n",
    "        elif isinstance(v, dict):\n",
    "            md += f'## {k}\\n'\n",
    "            md += dict_to_markdown_list(v)\n",
    "        else:\n",
    "            md += f'- **{k}:** {v}\\n'\n",
    "    return md\n",
    "\n",
    "md = dict_to_markdown_list(urls)\n",
    "\n",
    "\n",
    "display(Markdown(md))"
   ],
   "metadata": {
    "collapsed": false,
    "ExecuteTime": {
     "end_time": "2023-05-17T12:38:46.891904Z",
     "start_time": "2023-05-17T12:38:46.857459Z"
    }
   }
  },
  {
   "cell_type": "code",
   "execution_count": null,
   "outputs": [],
   "source": [],
   "metadata": {
    "collapsed": false
   }
  }
 ],
 "metadata": {
  "kernelspec": {
   "display_name": "Python 3",
   "language": "python",
   "name": "python3"
  },
  "language_info": {
   "codemirror_mode": {
    "name": "ipython",
    "version": 2
   },
   "file_extension": ".py",
   "mimetype": "text/x-python",
   "name": "python",
   "nbconvert_exporter": "python",
   "pygments_lexer": "ipython2",
   "version": "2.7.6"
  }
 },
 "nbformat": 4,
 "nbformat_minor": 0
}
